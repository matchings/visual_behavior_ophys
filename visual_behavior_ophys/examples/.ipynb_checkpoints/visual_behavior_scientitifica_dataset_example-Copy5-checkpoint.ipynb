{
 "cells": [
  {
   "cell_type": "code",
   "execution_count": 1,
   "metadata": {
    "collapsed": false
   },
   "outputs": [],
   "source": [
    "import os\n",
    "import numpy as np\n",
    "import pandas as pd\n",
    "import h5py \n",
    "\n",
    "import matplotlib.pyplot as plt\n",
    "%matplotlib inline\n",
    "%load_ext autoreload"
   ]
  },
  {
   "cell_type": "code",
   "execution_count": 2,
   "metadata": {
    "collapsed": false
   },
   "outputs": [],
   "source": [
    "ophys_session_dir = r\"\\\\allen\\programs\\braintv\\production\\neuralcoding\\prod0\\specimen_589751232\\ophys_session_616835918\""
   ]
  },
  {
   "cell_type": "code",
   "execution_count": 3,
   "metadata": {
    "collapsed": true
   },
   "outputs": [],
   "source": [
    "analysis_dir = r'\\\\allen\\programs\\braintv\\workgroups\\nc-ophys\\BehaviorImaging\\DoC\\2P6_data_analysis'"
   ]
  },
  {
   "cell_type": "code",
   "execution_count": 4,
   "metadata": {
    "collapsed": true
   },
   "outputs": [],
   "source": [
    "mouse_id = 324022"
   ]
  },
  {
   "cell_type": "code",
   "execution_count": 5,
   "metadata": {
    "collapsed": false
   },
   "outputs": [
    {
     "name": "stderr",
     "output_type": "stream",
     "text": [
      "C:\\Users\\marinag\\Documents\\imaging_behavior\\imaging_behavior\\core\\tifffile.py:278: UserWarning: ImportError: No module named '_tifffile'. Loading of some compressed images will be very slow. Tifffile.c can be obtained at http://www.lfd.uci.edu/~gohlke/\n",
      "  \"ImportError: No module named '_tifffile'. \"\n"
     ]
    },
    {
     "name": "stdout",
     "output_type": "stream",
     "text": [
      "failed to import mask in core.jcamdata.py\n",
      "failed to import get_mask_dict_gui in core.epoch.py\n",
      "failed to import mask relalated functions in __init__.py\n"
     ]
    }
   ],
   "source": [
    "from visual_behavior_ophys.dataset.visual_behavior_scientifica_dataset import VisualBehaviorScientificaDataset"
   ]
  },
  {
   "cell_type": "code",
   "execution_count": 6,
   "metadata": {
    "collapsed": false
   },
   "outputs": [
    {
     "name": "stdout",
     "output_type": "stream",
     "text": [
      "Visual frames detected in sync: 215807\n",
      "2P frames detected in sync: 111582\n",
      "visual frames in pkl file: 215806\n",
      "Loading \\\\allen\\programs\\braintv\\workgroups\\neuralcoding\\Behavior\\Data\\M324022\\output\\170906115608-task=DoC_NaturalImages_Ophys_SessionD_stage=natural_images_ophys_session_D_mouse=M324022.pkl\n",
      "stim type is  images\n"
     ]
    },
    {
     "name": "stderr",
     "output_type": "stream",
     "text": [
      "c:\\users\\marinag\\documents\\code\\visual_behavior_ophys\\visual_behavior_ophys\\dataset\\visual_behavior_scientifica_dataset.py:186: FutureWarning: pd.rolling_mean is deprecated for ndarrays and will be removed in a future version\n",
      "  running_speed_cm_per_sec = pd.rolling_mean(running_speed_cm_per_sec, window=6)\n"
     ]
    },
    {
     "name": "stdout",
     "output_type": "stream",
     "text": [
      "filter edge cells = True\n",
      "length of traces: 111580\n",
      "number of segmented cells: 98\n"
     ]
    }
   ],
   "source": [
    "dataset= VisualBehaviorScientificaDataset(ophys_session_dir, mouse_id=324022, analysis_dir = analysis_dir)"
   ]
  },
  {
   "cell_type": "markdown",
   "metadata": {
    "collapsed": true
   },
   "source": [
    "#stimulus analysis object\n",
    "interlength\n",
    "get_noise_correlation\n",
    "get_peak\n",
    "get_response\n",
    "get_representational_similarity\n",
    "get_signal_correlation\n",
    "get_sweep_response\n",
    "get_mean_sweep_response\n",
    "plotting functions\n",
    "\n"
   ]
  },
  {
   "cell_type": "code",
   "execution_count": 7,
   "metadata": {
    "collapsed": true
   },
   "outputs": [],
   "source": [
    "from visual_behavior_ophys.response_analysis.response_analysis import ResponseAnalysis "
   ]
  },
  {
   "cell_type": "code",
   "execution_count": 8,
   "metadata": {
    "collapsed": false
   },
   "outputs": [
    {
     "name": "stdout",
     "output_type": "stream",
     "text": [
      "length of traces: 111580\n",
      "number of segmented cells: 98\n",
      "loading response dataframe\n",
      "done\n"
     ]
    }
   ],
   "source": [
    "ra = ResponseAnalysis(dataset)"
   ]
  },
  {
   "cell_type": "code",
   "execution_count": 9,
   "metadata": {
    "collapsed": false,
    "scrolled": true
   },
   "outputs": [
    {
     "name": "stdout",
     "output_type": "stream",
     "text": [
      "loading response dataframe\n",
      "done\n"
     ]
    }
   ],
   "source": [
    "rdf = ra.get_response_dataframe()\n",
    "dataset.response_df = rdf"
   ]
  },
  {
   "cell_type": "code",
   "execution_count": 10,
   "metadata": {
    "collapsed": false
   },
   "outputs": [
    {
     "data": {
      "text/html": [
       "<div>\n",
       "<table border=\"1\" class=\"dataframe\">\n",
       "  <thead>\n",
       "    <tr style=\"text-align: right;\">\n",
       "      <th></th>\n",
       "      <th>cell</th>\n",
       "      <th>trial</th>\n",
       "      <th>response</th>\n",
       "      <th>response_timestamps</th>\n",
       "      <th>response_window_mean</th>\n",
       "      <th>baseline_window_mean</th>\n",
       "      <th>p_value</th>\n",
       "      <th>sd_over_baseline</th>\n",
       "      <th>run_speed</th>\n",
       "      <th>run_timestamps</th>\n",
       "      <th>...</th>\n",
       "      <th>total_trial</th>\n",
       "      <th>change_frame</th>\n",
       "      <th>change_time</th>\n",
       "      <th>initial_code</th>\n",
       "      <th>change_code</th>\n",
       "      <th>initial_image</th>\n",
       "      <th>change_image</th>\n",
       "      <th>trial_type</th>\n",
       "      <th>behavioral_response</th>\n",
       "      <th>behavioral_response_type</th>\n",
       "    </tr>\n",
       "  </thead>\n",
       "  <tbody>\n",
       "    <tr>\n",
       "      <th>0</th>\n",
       "      <td>0</td>\n",
       "      <td>0</td>\n",
       "      <td>[0.00314645823748, 0.0370906485616, 0.04129378...</td>\n",
       "      <td>[52.92273, 52.95503, 52.98734, 53.01964, 53.05...</td>\n",
       "      <td>0.156786</td>\n",
       "      <td>0.235024</td>\n",
       "      <td>0.059969</td>\n",
       "      <td>2.351654</td>\n",
       "      <td>[2.05315551179, 2.0572122729, 2.25617225289, 2...</td>\n",
       "      <td>[52.91335, 52.93001, 52.94673, 52.9634, 52.980...</td>\n",
       "      <td>...</td>\n",
       "      <td>2</td>\n",
       "      <td>315</td>\n",
       "      <td>56.91666</td>\n",
       "      <td>1</td>\n",
       "      <td>4</td>\n",
       "      <td>im024</td>\n",
       "      <td>im087</td>\n",
       "      <td>go</td>\n",
       "      <td>1.0</td>\n",
       "      <td>HIT</td>\n",
       "    </tr>\n",
       "    <tr>\n",
       "      <th>1</th>\n",
       "      <td>1</td>\n",
       "      <td>0</td>\n",
       "      <td>[-0.169868435415, 0.236332378041, -0.097793137...</td>\n",
       "      <td>[52.92273, 52.95503, 52.98734, 53.01964, 53.05...</td>\n",
       "      <td>0.022830</td>\n",
       "      <td>-0.090439</td>\n",
       "      <td>0.325187</td>\n",
       "      <td>0.083482</td>\n",
       "      <td>[2.05315551179, 2.0572122729, 2.25617225289, 2...</td>\n",
       "      <td>[52.91335, 52.93001, 52.94673, 52.9634, 52.980...</td>\n",
       "      <td>...</td>\n",
       "      <td>2</td>\n",
       "      <td>315</td>\n",
       "      <td>56.91666</td>\n",
       "      <td>1</td>\n",
       "      <td>4</td>\n",
       "      <td>im024</td>\n",
       "      <td>im087</td>\n",
       "      <td>go</td>\n",
       "      <td>1.0</td>\n",
       "      <td>HIT</td>\n",
       "    </tr>\n",
       "    <tr>\n",
       "      <th>2</th>\n",
       "      <td>2</td>\n",
       "      <td>0</td>\n",
       "      <td>[nan, nan, nan, nan, nan, nan, nan, nan, nan, ...</td>\n",
       "      <td>[52.92273, 52.95503, 52.98734, 53.01964, 53.05...</td>\n",
       "      <td>NaN</td>\n",
       "      <td>NaN</td>\n",
       "      <td>NaN</td>\n",
       "      <td>NaN</td>\n",
       "      <td>[2.05315551179, 2.0572122729, 2.25617225289, 2...</td>\n",
       "      <td>[52.91335, 52.93001, 52.94673, 52.9634, 52.980...</td>\n",
       "      <td>...</td>\n",
       "      <td>2</td>\n",
       "      <td>315</td>\n",
       "      <td>56.91666</td>\n",
       "      <td>1</td>\n",
       "      <td>4</td>\n",
       "      <td>im024</td>\n",
       "      <td>im087</td>\n",
       "      <td>go</td>\n",
       "      <td>1.0</td>\n",
       "      <td>HIT</td>\n",
       "    </tr>\n",
       "    <tr>\n",
       "      <th>3</th>\n",
       "      <td>3</td>\n",
       "      <td>0</td>\n",
       "      <td>[-0.0979392222726, -0.171242437137, -0.0187719...</td>\n",
       "      <td>[52.92273, 52.95503, 52.98734, 53.01964, 53.05...</td>\n",
       "      <td>-0.073691</td>\n",
       "      <td>-0.043996</td>\n",
       "      <td>0.189924</td>\n",
       "      <td>-1.242478</td>\n",
       "      <td>[2.05315551179, 2.0572122729, 2.25617225289, 2...</td>\n",
       "      <td>[52.91335, 52.93001, 52.94673, 52.9634, 52.980...</td>\n",
       "      <td>...</td>\n",
       "      <td>2</td>\n",
       "      <td>315</td>\n",
       "      <td>56.91666</td>\n",
       "      <td>1</td>\n",
       "      <td>4</td>\n",
       "      <td>im024</td>\n",
       "      <td>im087</td>\n",
       "      <td>go</td>\n",
       "      <td>1.0</td>\n",
       "      <td>HIT</td>\n",
       "    </tr>\n",
       "    <tr>\n",
       "      <th>4</th>\n",
       "      <td>4</td>\n",
       "      <td>0</td>\n",
       "      <td>[nan, nan, nan, nan, nan, nan, nan, nan, nan, ...</td>\n",
       "      <td>[52.92273, 52.95503, 52.98734, 53.01964, 53.05...</td>\n",
       "      <td>NaN</td>\n",
       "      <td>NaN</td>\n",
       "      <td>NaN</td>\n",
       "      <td>NaN</td>\n",
       "      <td>[2.05315551179, 2.0572122729, 2.25617225289, 2...</td>\n",
       "      <td>[52.91335, 52.93001, 52.94673, 52.9634, 52.980...</td>\n",
       "      <td>...</td>\n",
       "      <td>2</td>\n",
       "      <td>315</td>\n",
       "      <td>56.91666</td>\n",
       "      <td>1</td>\n",
       "      <td>4</td>\n",
       "      <td>im024</td>\n",
       "      <td>im087</td>\n",
       "      <td>go</td>\n",
       "      <td>1.0</td>\n",
       "      <td>HIT</td>\n",
       "    </tr>\n",
       "  </tbody>\n",
       "</table>\n",
       "<p>5 rows × 24 columns</p>\n",
       "</div>"
      ],
      "text/plain": [
       "   cell  trial                                           response  \\\n",
       "0     0      0  [0.00314645823748, 0.0370906485616, 0.04129378...   \n",
       "1     1      0  [-0.169868435415, 0.236332378041, -0.097793137...   \n",
       "2     2      0  [nan, nan, nan, nan, nan, nan, nan, nan, nan, ...   \n",
       "3     3      0  [-0.0979392222726, -0.171242437137, -0.0187719...   \n",
       "4     4      0  [nan, nan, nan, nan, nan, nan, nan, nan, nan, ...   \n",
       "\n",
       "                                 response_timestamps  response_window_mean  \\\n",
       "0  [52.92273, 52.95503, 52.98734, 53.01964, 53.05...              0.156786   \n",
       "1  [52.92273, 52.95503, 52.98734, 53.01964, 53.05...              0.022830   \n",
       "2  [52.92273, 52.95503, 52.98734, 53.01964, 53.05...                   NaN   \n",
       "3  [52.92273, 52.95503, 52.98734, 53.01964, 53.05...             -0.073691   \n",
       "4  [52.92273, 52.95503, 52.98734, 53.01964, 53.05...                   NaN   \n",
       "\n",
       "   baseline_window_mean   p_value  sd_over_baseline  \\\n",
       "0              0.235024  0.059969          2.351654   \n",
       "1             -0.090439  0.325187          0.083482   \n",
       "2                   NaN       NaN               NaN   \n",
       "3             -0.043996  0.189924         -1.242478   \n",
       "4                   NaN       NaN               NaN   \n",
       "\n",
       "                                           run_speed  \\\n",
       "0  [2.05315551179, 2.0572122729, 2.25617225289, 2...   \n",
       "1  [2.05315551179, 2.0572122729, 2.25617225289, 2...   \n",
       "2  [2.05315551179, 2.0572122729, 2.25617225289, 2...   \n",
       "3  [2.05315551179, 2.0572122729, 2.25617225289, 2...   \n",
       "4  [2.05315551179, 2.0572122729, 2.25617225289, 2...   \n",
       "\n",
       "                                      run_timestamps           ...             \\\n",
       "0  [52.91335, 52.93001, 52.94673, 52.9634, 52.980...           ...              \n",
       "1  [52.91335, 52.93001, 52.94673, 52.9634, 52.980...           ...              \n",
       "2  [52.91335, 52.93001, 52.94673, 52.9634, 52.980...           ...              \n",
       "3  [52.91335, 52.93001, 52.94673, 52.9634, 52.980...           ...              \n",
       "4  [52.91335, 52.93001, 52.94673, 52.9634, 52.980...           ...              \n",
       "\n",
       "   total_trial  change_frame change_time  initial_code  change_code  \\\n",
       "0            2           315    56.91666             1            4   \n",
       "1            2           315    56.91666             1            4   \n",
       "2            2           315    56.91666             1            4   \n",
       "3            2           315    56.91666             1            4   \n",
       "4            2           315    56.91666             1            4   \n",
       "\n",
       "   initial_image  change_image  trial_type  behavioral_response  \\\n",
       "0          im024         im087          go                  1.0   \n",
       "1          im024         im087          go                  1.0   \n",
       "2          im024         im087          go                  1.0   \n",
       "3          im024         im087          go                  1.0   \n",
       "4          im024         im087          go                  1.0   \n",
       "\n",
       "  behavioral_response_type  \n",
       "0                      HIT  \n",
       "1                      HIT  \n",
       "2                      HIT  \n",
       "3                      HIT  \n",
       "4                      HIT  \n",
       "\n",
       "[5 rows x 24 columns]"
      ]
     },
     "execution_count": 10,
     "metadata": {},
     "output_type": "execute_result"
    }
   ],
   "source": [
    "rdf.head()"
   ]
  },
  {
   "cell_type": "code",
   "execution_count": 11,
   "metadata": {
    "collapsed": false
   },
   "outputs": [],
   "source": [
    "from visual_behavior_ophys.plotting_tools import summary_figures as sf"
   ]
  },
  {
   "cell_type": "code",
   "execution_count": 12,
   "metadata": {
    "collapsed": false
   },
   "outputs": [],
   "source": [
    "sf.plot_behavior_events_trace(dataset, range(dataset.dff_traces.shape[0]), xmin=360, length=6, ax=None, save=True)"
   ]
  },
  {
   "cell_type": "code",
   "execution_count": null,
   "metadata": {
    "collapsed": true
   },
   "outputs": [],
   "source": []
  },
  {
   "cell_type": "code",
   "execution_count": null,
   "metadata": {
    "collapsed": true
   },
   "outputs": [],
   "source": []
  },
  {
   "cell_type": "code",
   "execution_count": null,
   "metadata": {
    "collapsed": true
   },
   "outputs": [],
   "source": []
  },
  {
   "cell_type": "code",
   "execution_count": 13,
   "metadata": {
    "collapsed": false
   },
   "outputs": [],
   "source": [
    "from visual_behavior_ophys.plotting_tools import basic_plotting as bp"
   ]
  },
  {
   "cell_type": "code",
   "execution_count": 14,
   "metadata": {
    "collapsed": true
   },
   "outputs": [],
   "source": [
    "from visual_behavior_ophys.roi_mask_analysis import roi_mask_analysis as rm"
   ]
  },
  {
   "cell_type": "code",
   "execution_count": null,
   "metadata": {
    "collapsed": true
   },
   "outputs": [],
   "source": []
  },
  {
   "cell_type": "code",
   "execution_count": null,
   "metadata": {
    "collapsed": true
   },
   "outputs": [],
   "source": []
  },
  {
   "cell_type": "code",
   "execution_count": null,
   "metadata": {
    "collapsed": true
   },
   "outputs": [],
   "source": []
  },
  {
   "cell_type": "code",
   "execution_count": null,
   "metadata": {
    "collapsed": true
   },
   "outputs": [],
   "source": []
  },
  {
   "cell_type": "code",
   "execution_count": null,
   "metadata": {
    "collapsed": true
   },
   "outputs": [],
   "source": []
  }
 ],
 "metadata": {
  "anaconda-cloud": {},
  "kernelspec": {
   "display_name": "Python 2",
   "language": "python",
   "name": "python2"
  },
  "language_info": {
   "codemirror_mode": {
    "name": "ipython",
    "version": 2
   },
   "file_extension": ".py",
   "mimetype": "text/x-python",
   "name": "python",
   "nbconvert_exporter": "python",
   "pygments_lexer": "ipython2",
   "version": "2.7.13"
  }
 },
 "nbformat": 4,
 "nbformat_minor": 0
}
