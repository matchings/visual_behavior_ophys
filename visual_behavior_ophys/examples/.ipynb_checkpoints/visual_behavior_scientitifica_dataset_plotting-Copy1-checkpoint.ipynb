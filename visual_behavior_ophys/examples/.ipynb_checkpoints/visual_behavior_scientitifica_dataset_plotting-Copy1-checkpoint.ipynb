{
 "cells": [
  {
   "cell_type": "code",
   "execution_count": 1,
   "metadata": {
    "collapsed": false
   },
   "outputs": [],
   "source": [
    "import os\n",
    "import numpy as np\n",
    "import pandas as pd\n",
    "import h5py \n",
    "\n",
    "import matplotlib.pyplot as plt\n",
    "%matplotlib inline\n",
    "%load_ext autoreload"
   ]
  },
  {
   "cell_type": "code",
   "execution_count": 2,
   "metadata": {
    "collapsed": true
   },
   "outputs": [],
   "source": [
    "ophys_session_dir = r\"\\\\allen\\programs\\braintv\\production\\neuralcoding\\prod0\\specimen_594684843\\ophys_session_638773986\"\n",
    "mouse_id = 328341"
   ]
  },
  {
   "cell_type": "code",
   "execution_count": 3,
   "metadata": {
    "collapsed": true
   },
   "outputs": [],
   "source": [
    "analysis_dir = r'\\\\allen\\programs\\braintv\\workgroups\\nc-ophys\\BehaviorImaging\\DoC\\2P6_data_analysis'\n"
   ]
  },
  {
   "cell_type": "code",
   "execution_count": null,
   "metadata": {
    "collapsed": false
   },
   "outputs": [],
   "source": [
    "from visual_behavior_ophys.dataset.visual_behavior_scientifica_dataset import VisualBehaviorScientificaDataset"
   ]
  },
  {
   "cell_type": "code",
   "execution_count": null,
   "metadata": {
    "collapsed": false
   },
   "outputs": [
    {
     "name": "stdout",
     "output_type": "stream",
     "text": [
      "Visual frames detected in sync: 215790\n",
      "2P frames detected in sync: 111643\n",
      "170926\n",
      "visual frames in pkl file: 215790\n"
     ]
    }
   ],
   "source": [
    "dataset= VisualBehaviorScientificaDataset(ophys_session_dir, mouse_id=mouse_id, analysis_dir=analysis_dir)"
   ]
  },
  {
   "cell_type": "code",
   "execution_count": null,
   "metadata": {
    "collapsed": true
   },
   "outputs": [],
   "source": [
    "from visual_behavior_ophys.response_analysis.response_analysis import ResponseAnalysis "
   ]
  },
  {
   "cell_type": "code",
   "execution_count": null,
   "metadata": {
    "collapsed": false
   },
   "outputs": [],
   "source": [
    "ra = ResponseAnalysis(dataset)"
   ]
  },
  {
   "cell_type": "markdown",
   "metadata": {},
   "source": [
    "## figure generation code  "
   ]
  },
  {
   "cell_type": "code",
   "execution_count": null,
   "metadata": {
    "collapsed": false
   },
   "outputs": [],
   "source": [
    "from visual_behavior_ophys.plotting_tools import summary_figures as sf\n",
    "from visual_behavior_ophys.plotting_tools import basic_plotting as bp\n",
    "from visual_behavior_ophys.roi_mask_analysis import roi_mask_analysis as rm"
   ]
  },
  {
   "cell_type": "code",
   "execution_count": null,
   "metadata": {
    "collapsed": false
   },
   "outputs": [],
   "source": [
    "rdf = ra.response_df\n",
    "mdf = ra.mean_response_df\n",
    "sdf = ra.cell_summary_df"
   ]
  },
  {
   "cell_type": "code",
   "execution_count": null,
   "metadata": {
    "collapsed": true
   },
   "outputs": [],
   "source": [
    "plot_images(dataset,mdf,save=True);"
   ]
  },
  {
   "cell_type": "code",
   "execution_count": null,
   "metadata": {
    "collapsed": false,
    "scrolled": false
   },
   "outputs": [],
   "source": [
    "sf.plot_experiment_summary_figure(dataset, mdf, sdf, save=True)"
   ]
  },
  {
   "cell_type": "code",
   "execution_count": null,
   "metadata": {
    "collapsed": true
   },
   "outputs": [],
   "source": [
    "# sf.plot_behavior_events_trace(dataset, ra.response_df.cell.unique(), xmin=360, length=5, ax=None, save=True)"
   ]
  },
  {
   "cell_type": "code",
   "execution_count": null,
   "metadata": {
    "collapsed": true
   },
   "outputs": [],
   "source": [
    "# def plot_experiment_summary_figure(dataset, mdf, sdf, save=False):\n",
    "#     import seaborn as sns\n",
    "#     figsize = [2 * 11, 2 * 8.5]\n",
    "#     fig = plt.figure(figsize=figsize, facecolor='white')\n",
    "#     sns.axes_style({'axes.facecolor': 'white'})\n",
    "\n",
    "#     ax = sf.placeAxesOnGrid(fig, dim=(1, 1), xspan=(.0, .24), yspan=(0, .25))\n",
    "#     ax.imshow(dataset.max_projection, cmap='gray', vmin=0, vmax=np.amax(dataset.max_projection) / 2)\n",
    "#     mask = rm.make_filtered_mask(dataset.roi_dict, dataset.roi_dict.keys())\n",
    "#     ax.imshow(mask, cmap='jet', alpha=0.3, vmin=0, vmax=0.7)\n",
    "#     ax.axis('off');\n",
    "#     ax.set_title(dataset.experiment_id)\n",
    "\n",
    "#     ax = sf.placeAxesOnGrid(fig, dim=(1, 1), xspan=(.0, .24), yspan=(.2, .8))\n",
    "#     sf.plot_behavior(dataset.pkl_df, ax=ax)\n",
    "\n",
    "#     ax = sf.placeAxesOnGrid(fig, dim=(1, 1), xspan=(.2, 0.92), yspan=(0, .3))\n",
    "#     ax = sf.plot_traces_heatmap(dataset, cbar=True, ax=ax)\n",
    "#     ax.set_xlim(0, dataset.dff_traces.shape[1])\n",
    "\n",
    "#     ###behavior figures\n",
    "#     upper_limit, time_interval, frame_interval = sf.get_upper_limit_and_intervals(dataset)\n",
    "\n",
    "#     ax = sf.placeAxesOnGrid(fig, dim=(1, 1), xspan=(.21, .8), yspan=(.29, .45))\n",
    "#     ax = sf.plot_run_speed(dataset, ax=ax, label=True)\n",
    "#     ax2 = ax.twinx()\n",
    "#     ax2 = sf.plot_reward_rate(dataset, label=True, ax=ax2)\n",
    "#     ax2.set_title('')\n",
    "#     ax.set_xlim(time_interval[0], np.uint64(upper_limit / 30.))\n",
    "#     ax.set_xticks(np.arange(600, upper_limit / 30, 600))\n",
    "#     ax2.grid(False)\n",
    "#     ax2.set_xlabel('')\n",
    "#     ax.set_xlabel('')\n",
    "\n",
    "#     ax = sf.placeAxesOnGrid(fig, dim=(1, 1), xspan=(.21, .8), yspan=(.44, .6))\n",
    "#     ax = sf.plot_task_performance(dataset, label=True, ax=ax)\n",
    "#     ax.set_xlim(time_interval[0], np.uint64(upper_limit / 30.))\n",
    "#     ax.set_xticks(np.arange(600, upper_limit / 30, 600))\n",
    "#     ax.set_xlabel('time (seconds)')\n",
    "\n",
    "#     ###response matrices.\n",
    "#     sc = dataset.stim_codes\n",
    "#     tmp = dataset.pkl_df.copy()\n",
    "#     tmp = tmp[tmp.trial_type != 'aborted']\n",
    "#     tmp = tmp[tmp.trial_type != 'other']\n",
    "#     tmp = sf.add_stim_codes_to_pkl_df(tmp, dataset.stim_codes)\n",
    "#     #     tmp = add_stim_codes_to_pkl_df(tmp,dataset.stim_codes)\n",
    "\n",
    "#     ax = sf.placeAxesOnGrid(fig, dim=(1, 1), xspan=(.5, .75), yspan=(.59, .8))\n",
    "#     sf.create_resp_prob_heatmap_general(tmp, index='initial_code', columns='change_code', ax=ax, cmap='magma',\n",
    "#                                              filter_by_reward_rate=False)\n",
    "\n",
    "#     ax = sf.placeAxesOnGrid(fig, dim=(1, 1), xspan=(.25, .5), yspan=(.59, .8))\n",
    "#     sf.create_resp_prob_heatmap_general(tmp, values='trial_num', index='initial_code', columns='change_code',\n",
    "#                                              aggfunc=np.sum, ax=ax, cmap='magma', filter_by_reward_rate=False)\n",
    "\n",
    "#     ax = sf.placeAxesOnGrid(fig, dim=(1, 1), xspan=(.77, 1.), yspan=(.3, .7))\n",
    "#     sf.plot_response_matrix(mdf, values='response_window_mean', index=['cell'], columns=['change_code'], sig=True,\n",
    "#                                  ax=ax)\n",
    "\n",
    "#     ax = sf.placeAxesOnGrid(fig, dim=(1,len(mdf.change_code.unique())), xspan=(.25, 0.95), yspan=(.8, .95), wspace=0.35)\n",
    "#     plot_images(dataset,mdf,ax=ax);\n",
    "\n",
    "#     fig.tight_layout()\n",
    "\n",
    "#     if save:\n",
    "#         sf.save_figure(fig, figsize, dataset.analysis_dir, str(dataset.experiment_id) + '_DoC', 'expt_summary',\n",
    "#                        formats=['.png'])\n",
    "#         analysis_dir = r'\\\\aibsdata2\\nc-ophys\\BehaviorImaging\\DoC'\n",
    "#         sf.save_figure(fig, figsize, analysis_dir, str(dataset.experiment_id) + '_DoC', 'experiment_summaries')\n"
   ]
  },
  {
   "cell_type": "code",
   "execution_count": null,
   "metadata": {
    "collapsed": false
   },
   "outputs": [],
   "source": [
    "plot_experiment_summary_figure(dataset, mdf, sdf, save=False)"
   ]
  },
  {
   "cell_type": "code",
   "execution_count": null,
   "metadata": {
    "collapsed": true
   },
   "outputs": [],
   "source": [
    "sf.plot_traces_heatmap(dataset, dataset.dff_traces, label='dF/F',save=False,cbar=True,ax=None)"
   ]
  },
  {
   "cell_type": "code",
   "execution_count": null,
   "metadata": {
    "collapsed": true
   },
   "outputs": [],
   "source": [
    "# for trace in dataset.dff_traces\n",
    "# sf.plot_trace(timestamps, trace, ax=None, xlabel='seconds', ylabel='dF/F')"
   ]
  },
  {
   "cell_type": "code",
   "execution_count": null,
   "metadata": {
    "collapsed": true
   },
   "outputs": [],
   "source": []
  },
  {
   "cell_type": "code",
   "execution_count": null,
   "metadata": {
    "collapsed": true
   },
   "outputs": [],
   "source": []
  },
  {
   "cell_type": "code",
   "execution_count": null,
   "metadata": {
    "collapsed": true
   },
   "outputs": [],
   "source": []
  },
  {
   "cell_type": "code",
   "execution_count": null,
   "metadata": {
    "collapsed": true
   },
   "outputs": [],
   "source": []
  },
  {
   "cell_type": "code",
   "execution_count": null,
   "metadata": {
    "collapsed": true
   },
   "outputs": [],
   "source": []
  },
  {
   "cell_type": "code",
   "execution_count": null,
   "metadata": {
    "collapsed": true
   },
   "outputs": [],
   "source": []
  },
  {
   "cell_type": "code",
   "execution_count": null,
   "metadata": {
    "collapsed": true
   },
   "outputs": [],
   "source": []
  },
  {
   "cell_type": "code",
   "execution_count": null,
   "metadata": {
    "collapsed": true
   },
   "outputs": [],
   "source": []
  }
 ],
 "metadata": {
  "anaconda-cloud": {},
  "kernelspec": {
   "display_name": "Python 2",
   "language": "python",
   "name": "python2"
  },
  "language_info": {
   "codemirror_mode": {
    "name": "ipython",
    "version": 2
   },
   "file_extension": ".py",
   "mimetype": "text/x-python",
   "name": "python",
   "nbconvert_exporter": "python",
   "pygments_lexer": "ipython2",
   "version": "2.7.13"
  }
 },
 "nbformat": 4,
 "nbformat_minor": 0
}
