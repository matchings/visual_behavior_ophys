{
 "cells": [
  {
   "cell_type": "code",
   "execution_count": 1,
   "metadata": {
    "collapsed": false
   },
   "outputs": [],
   "source": [
    "import os\n",
    "import numpy as np\n",
    "import pandas as pd\n",
    "import h5py \n",
    "\n",
    "import matplotlib.pyplot as plt\n",
    "%matplotlib inline\n",
    "%load_ext autoreload"
   ]
  },
  {
   "cell_type": "code",
   "execution_count": 2,
   "metadata": {
    "collapsed": true
   },
   "outputs": [],
   "source": [
    "from visual_behavior_ophys.dataset.visual_behavior_scientifica_dataset import VisualBehaviorScientificaDataset\n",
    "from visual_behavior_ophys.response_analysis.response_analysis import ResponseAnalysis \n",
    "from visual_behavior_ophys.plotting_tools import summary_figures as sf\n"
   ]
  },
  {
   "cell_type": "code",
   "execution_count": 3,
   "metadata": {
    "collapsed": true
   },
   "outputs": [],
   "source": [
    "specimen_id = 595258819"
   ]
  },
  {
   "cell_type": "code",
   "execution_count": 4,
   "metadata": {
    "collapsed": false
   },
   "outputs": [],
   "source": [
    "analysis_dir = r'\\\\allen\\programs\\braintv\\workgroups\\nc-ophys\\BehaviorImaging\\DoC\\2P6_data_analysis'\n",
    "base_dir = r\"\\\\allen\\programs\\braintv\\production\\neuralcoding\\prod0\\specimen_\"\n",
    "data_dir = os.path.join(base_dir+str(specimen_id))"
   ]
  },
  {
   "cell_type": "markdown",
   "metadata": {},
   "source": [
    "# plot figures if analysis has not yet been run"
   ]
  },
  {
   "cell_type": "code",
   "execution_count": 10,
   "metadata": {
    "collapsed": false,
    "scrolled": false
   },
   "outputs": [
    {
     "name": "stdout",
     "output_type": "stream",
     "text": [
      "*****experiment folder is empty for \\\\allen\\programs\\braintv\\production\\neuralcoding\\prod0\\specimen_595258819\\ophys_session_639016513 *****\n",
      "*****analyzing 642030234 *****\n",
      "creating dataset object\n",
      "Visual frames detected in sync: 91320\n",
      "2P frames detected in sync: 47518\n",
      "171005\n",
      "*****problem for 642030234 *****\n",
      "*****response_dataframe.h5 already in 639761628 *****\n",
      "*****response_dataframe.h5 already in 639437943 *****\n",
      "*****response_dataframe.h5 already in 639930487 *****\n",
      "*****response_dataframe.h5 already in 639252684 *****\n",
      "*****response_dataframe.h5 already in 640205029 *****\n"
     ]
    }
   ],
   "source": [
    "for session_folder in [folder for folder in os.listdir(data_dir) if 'ophys_session' in folder]:\n",
    "    ophys_session_dir = os.path.join(data_dir,session_folder)\n",
    "    expt_folder = [folder for folder in os.listdir(ophys_session_dir) if 'ophys_experiment' in folder]\n",
    "    if len(expt_folder)>0:\n",
    "        lims_id = expt_folder[0][-9:]\n",
    "        analysis_folder = [folder for folder in os.listdir(analysis_dir) if str(lims_id) in folder]\n",
    "        if (len(analysis_folder)==0) or ('response_dataframe.h5' not in os.listdir(os.path.join(analysis_dir,analysis_folder[0]))):\n",
    "            try:\n",
    "                print '*****analyzing',lims_id,'*****'\n",
    "                print 'creating dataset object'\n",
    "                dataset= VisualBehaviorScientificaDataset(lims_id, analysis_dir=analysis_dir)\n",
    "\n",
    "                print 'creating response analysis object'\n",
    "                ra = ResponseAnalysis(dataset)\n",
    "                rdf = ra.response_df\n",
    "                mdf = ra.mean_response_df\n",
    "                sdf = ra.get_cell_summary_df(p_val_thresh=0.005, sd_over_baseline_thresh=3)\n",
    "\n",
    "                print 'generating experiment summary figures'\n",
    "                sf.plot_images(dataset,mdf,save=True);\n",
    "                sf.plot_experiment_summary_figure(dataset, mdf, sdf, save=True)\n",
    "                sf.plot_behavior_events_trace(dataset, ra.response_df.cell.unique(), xmin=360, length=5, ax=None, save=True)\n",
    "                print 'generating cell summary figures'\n",
    "                for cell in mdf.cell.unique():\n",
    "                    sf.plot_cell_summary_figure(dataset,ra, cell, save=True)\n",
    "            except: \n",
    "                print '*****problem for',lims_id,'*****'\n",
    "        else: \n",
    "            print '*****response_dataframe.h5 already in',lims_id,'*****'\n",
    "    else: \n",
    "         print '*****experiment folder is empty for',os.path.join(ophys_session_dir),'*****'"
   ]
  },
  {
   "cell_type": "markdown",
   "metadata": {},
   "source": [
    "## plot figures regardless of whether response_dataframe exists or not"
   ]
  },
  {
   "cell_type": "code",
   "execution_count": null,
   "metadata": {
    "collapsed": false,
    "scrolled": false
   },
   "outputs": [
    {
     "name": "stdout",
     "output_type": "stream",
     "text": [
      "*****experiment folder is empty for \\\\allen\\programs\\braintv\\production\\neuralcoding\\prod0\\specimen_595258819\\ophys_session_639016513 *****\n",
      "*****analyzing 639761628 *****\n",
      "creating dataset object\n",
      "Visual frames detected in sync: 215793\n",
      "2P frames detected in sync: 111700\n",
      "171002\n",
      "visual frames in pkl file: 215792\n",
      "Loading \\\\allen\\programs\\braintv\\workgroups\\neuralcoding\\Behavior\\Data\\M328344\\output\\171002114150-task=DoC_NaturalImages_Ophys_SessionB_stage=natural_images_ophys_session_B_mouse=M328344.pkl\n",
      "stim type is  images\n"
     ]
    },
    {
     "name": "stderr",
     "output_type": "stream",
     "text": [
      "c:\\users\\marinag\\documents\\code\\visual_behavior_ophys\\visual_behavior_ophys\\dataset\\visual_behavior_scientifica_dataset.py:209: FutureWarning: pd.rolling_mean is deprecated for ndarrays and will be removed in a future version\n",
      "  running_speed_cm_per_sec = pd.rolling_mean(running_speed_cm_per_sec, window=6)\n"
     ]
    },
    {
     "name": "stdout",
     "output_type": "stream",
     "text": [
      "length of traces: 111688\n",
      "number of segmented cells: 96\n",
      "creating response analysis object\n",
      "length of traces: 111688\n",
      "number of segmented cells: 96\n",
      "loading response dataframe\n",
      "creating mean response dataframe\n"
     ]
    },
    {
     "name": "stderr",
     "output_type": "stream",
     "text": [
      "c:\\users\\marinag\\documents\\code\\visual_behavior_ophys\\visual_behavior_ophys\\response_analysis\\response_analysis.py:175: VisibleDeprecationWarning: using a non-integer number instead of an integer will result in an error in the future\n",
      "  (_, p) = stats.f_oneway(trace[baseline_start:baseline_end], trace[stim_start:stim_end])\n"
     ]
    },
    {
     "name": "stdout",
     "output_type": "stream",
     "text": [
      "creating cell summary dataframe\n",
      "creating cell summary dataframe\n",
      "generating experiment summary figures\n"
     ]
    },
    {
     "name": "stderr",
     "output_type": "stream",
     "text": [
      "c:\\users\\marinag\\documents\\code\\visual_behavior_ophys\\visual_behavior_ophys\\plotting_tools\\summary_figures.py:2754: SettingWithCopyWarning: \n",
      "A value is trying to be set on a copy of a slice from a DataFrame.\n",
      "Try using .loc[row_indexer,col_indexer] = value instead\n",
      "\n",
      "See the caveats in the documentation: http://pandas.pydata.org/pandas-docs/stable/indexing.html#indexing-view-versus-copy\n",
      "  table_data['external_specimen_id'] = 'M'+str(table_data['external_specimen_id'].values[0])\n",
      "c:\\users\\marinag\\documents\\code\\visual_behavior_ophys\\visual_behavior_ophys\\plotting_tools\\summary_figures.py:2755: SettingWithCopyWarning: \n",
      "A value is trying to be set on a copy of a slice from a DataFrame.\n",
      "Try using .loc[row_indexer,col_indexer] = value instead\n",
      "\n",
      "See the caveats in the documentation: http://pandas.pydata.org/pandas-docs/stable/indexing.html#indexing-view-versus-copy\n",
      "  table_data['experiment_date'] = str(table_data['experiment_date'].values[0])[:10]\n",
      "c:\\users\\marinag\\documents\\code\\visual_behavior_ophys\\visual_behavior_ophys\\plotting_tools\\summary_figures.py:2756: SettingWithCopyWarning: \n",
      "A value is trying to be set on a copy of a slice from a DataFrame.\n",
      "Try using .loc[row_indexer,col_indexer] = value instead\n",
      "\n",
      "See the caveats in the documentation: http://pandas.pydata.org/pandas-docs/stable/indexing.html#indexing-view-versus-copy\n",
      "  table_data['specimen_driver_line'] = table_data['specimen_driver_line'].values[0].split(';')[0]\n",
      "c:\\users\\marinag\\documents\\code\\visual_behavior_ophys\\visual_behavior_ophys\\plotting_tools\\summary_figures.py:659: VisibleDeprecationWarning: using a non-integer number instead of an integer will result in an error in the future\n",
      "  frame_times.append(times[frame])\n",
      "C:\\Anaconda\\lib\\site-packages\\scipy\\stats\\_distn_infrastructure.py:1897: RuntimeWarning: invalid value encountered in greater\n",
      "  cond1 = (0 < q) & (q < 1)\n",
      "C:\\Anaconda\\lib\\site-packages\\scipy\\stats\\_distn_infrastructure.py:1897: RuntimeWarning: invalid value encountered in less\n",
      "  cond1 = (0 < q) & (q < 1)\n"
     ]
    },
    {
     "name": "stdout",
     "output_type": "stream",
     "text": [
      "generating cell summary figures\n"
     ]
    },
    {
     "name": "stderr",
     "output_type": "stream",
     "text": [
      "c:\\users\\marinag\\documents\\code\\visual_behavior_ophys\\visual_behavior_ophys\\plotting_tools\\summary_figures.py:1574: VisibleDeprecationWarning: using a non-integer number instead of an integer will result in an error in the future\n",
      "  trace = tdf.mean_trace.values[0][frames_range[0]:frames_range[1]]\n",
      "c:\\users\\marinag\\documents\\code\\visual_behavior_ophys\\visual_behavior_ophys\\plotting_tools\\summary_figures.py:1575: VisibleDeprecationWarning: using a non-integer number instead of an integer will result in an error in the future\n",
      "  sem = tdf.sem_trace.values[0][frames_range[0]:frames_range[1]]\n",
      "c:\\users\\marinag\\documents\\code\\visual_behavior_ophys\\visual_behavior_ophys\\plotting_tools\\summary_figures.py:1628: VisibleDeprecationWarning: using a non-integer number instead of an integer will result in an error in the future\n",
      "  trace = tdf.mean_trace.values[0][frames_range[0]:frames_range[1]]\n",
      "c:\\users\\marinag\\documents\\code\\visual_behavior_ophys\\visual_behavior_ophys\\plotting_tools\\summary_figures.py:1629: VisibleDeprecationWarning: using a non-integer number instead of an integer will result in an error in the future\n",
      "  sem = tdf.sem_trace.values[0][frames_range[0]:frames_range[1]]\n"
     ]
    },
    {
     "name": "stdout",
     "output_type": "stream",
     "text": [
      "*****analyzing 639437943 *****\n",
      "creating dataset object\n",
      "Visual frames detected in sync: 215799\n",
      "2P frames detected in sync: 111630\n",
      "170929\n",
      "visual frames in pkl file: 215799\n",
      "Loading \\\\allen\\programs\\braintv\\workgroups\\neuralcoding\\Behavior\\Data\\M328344\\output\\170929130240-task=DoC_NaturalImages_Ophys_SessionA_stage=natural_images_ophys_session_A_mouse=M328344.pkl\n",
      "stim type is  images\n",
      "length of traces: 111624\n",
      "number of segmented cells: 104\n",
      "creating response analysis object\n",
      "length of traces: 111624\n",
      "number of segmented cells: 104\n",
      "loading response dataframe\n",
      "creating mean response dataframe\n",
      "creating cell summary dataframe\n",
      "creating cell summary dataframe\n",
      "generating experiment summary figures\n",
      "generating cell summary figures\n",
      "*****analyzing 639930487 *****\n",
      "creating dataset object\n",
      "Visual frames detected in sync: 215776\n",
      "2P frames detected in sync: 111672\n",
      "171003\n",
      "visual frames in pkl file: 215776\n",
      "Loading \\\\allen\\programs\\braintv\\workgroups\\neuralcoding\\Behavior\\Data\\M328344\\output\\171003120542-task=DoC_NaturalImages_Ophys_SessionC_stage=natural_images_ophys_session_C_mouse=M328344.pkl\n",
      "stim type is  images\n",
      "length of traces: 111668\n",
      "number of segmented cells: 266\n",
      "creating response analysis object\n",
      "length of traces: 111668\n",
      "number of segmented cells: 266\n",
      "loading response dataframe\n",
      "creating mean response dataframe\n",
      "creating cell summary dataframe\n",
      "creating cell summary dataframe\n",
      "generating experiment summary figures\n",
      "generating cell summary figures\n",
      "*****analyzing 639252684 *****\n",
      "creating dataset object\n",
      "Visual frames detected in sync: 215789\n",
      "2P frames detected in sync: 111672\n",
      "170928\n",
      "visual frames in pkl file: 215789\n",
      "Loading \\\\allen\\programs\\braintv\\workgroups\\neuralcoding\\Behavior\\Data\\M328344\\output\\170928131640-task=DoC_NaturalImages_Ophys_Sessiona_stage=natural_images_ophys_session_a_mouse=M328344.pkl\n",
      "stim type is  images\n",
      "length of traces: 111664\n",
      "number of segmented cells: 143\n",
      "creating response analysis object\n",
      "length of traces: 111664\n",
      "number of segmented cells: 143\n",
      "loading response dataframe\n",
      "creating mean response dataframe\n",
      "creating cell summary dataframe\n",
      "creating cell summary dataframe\n",
      "generating experiment summary figures\n"
     ]
    }
   ],
   "source": [
    "for session_folder in [folder for folder in os.listdir(data_dir) if 'ophys_session' in folder]:\n",
    "    ophys_session_dir = os.path.join(data_dir,session_folder)\n",
    "    expt_folder = [folder for folder in os.listdir(ophys_session_dir) if 'ophys_experiment' in folder]\n",
    "    if len(expt_folder)>0:\n",
    "        lims_id = expt_folder[0][-9:]\n",
    "        analysis_folder = [folder for folder in os.listdir(analysis_dir) if str(lims_id) in folder]\n",
    "#         try:\n",
    "        print '*****analyzing',lims_id,'*****'\n",
    "        print 'creating dataset object'\n",
    "        dataset= VisualBehaviorScientificaDataset(lims_id, analysis_dir=analysis_dir)\n",
    "\n",
    "        print 'creating response analysis object'\n",
    "        ra = ResponseAnalysis(dataset)\n",
    "        rdf = ra.response_df\n",
    "        mdf = ra.mean_response_df\n",
    "        sdf = ra.get_cell_summary_df(p_val_thresh=0.005, sd_over_baseline_thresh=3)\n",
    "\n",
    "        print 'generating experiment summary figures'\n",
    "        sf.plot_images(dataset,mdf,save=True);\n",
    "        sf.plot_experiment_summary_figure(dataset, mdf, sdf, save=True)\n",
    "        sf.plot_behavior_events_trace(dataset, ra.response_df.cell.unique(), xmin=360, length=5, ax=None, save=True)\n",
    "        print 'generating cell summary figures'\n",
    "        for cell in mdf.cell.unique():\n",
    "            sf.plot_cell_summary_figure(dataset,ra, cell, save=True)\n",
    "#         except: \n",
    "#             print '*****problem for',lims_id,'*****'\n",
    "    else: \n",
    "         print '*****experiment folder is empty for',os.path.join(ophys_session_dir),'*****'"
   ]
  },
  {
   "cell_type": "markdown",
   "metadata": {},
   "source": [
    "## plot single experiment for this specimen"
   ]
  },
  {
   "cell_type": "code",
   "execution_count": 5,
   "metadata": {
    "collapsed": true
   },
   "outputs": [],
   "source": [
    "lims_id = 642030234 "
   ]
  },
  {
   "cell_type": "code",
   "execution_count": 6,
   "metadata": {
    "collapsed": false
   },
   "outputs": [
    {
     "name": "stdout",
     "output_type": "stream",
     "text": [
      "*****analyzing 642030234 *****\n",
      "creating dataset object\n",
      "Visual frames detected in sync: 91320\n",
      "2P frames detected in sync: 47518\n",
      "171005\n"
     ]
    },
    {
     "ename": "IndexError",
     "evalue": "list index out of range",
     "output_type": "error",
     "traceback": [
      "\u001b[0;31m---------------------------------------------------------------------------\u001b[0m",
      "\u001b[0;31mIndexError\u001b[0m                                Traceback (most recent call last)",
      "\u001b[0;32m<ipython-input-6-63110e97aa15>\u001b[0m in \u001b[0;36m<module>\u001b[0;34m()\u001b[0m\n\u001b[1;32m      5\u001b[0m     \u001b[1;32mprint\u001b[0m \u001b[1;34m'*****analyzing'\u001b[0m\u001b[1;33m,\u001b[0m\u001b[0mlims_id\u001b[0m\u001b[1;33m,\u001b[0m\u001b[1;34m'*****'\u001b[0m\u001b[1;33m\u001b[0m\u001b[0m\n\u001b[1;32m      6\u001b[0m     \u001b[1;32mprint\u001b[0m \u001b[1;34m'creating dataset object'\u001b[0m\u001b[1;33m\u001b[0m\u001b[0m\n\u001b[0;32m----> 7\u001b[0;31m     \u001b[0mdataset\u001b[0m\u001b[1;33m=\u001b[0m \u001b[0mVisualBehaviorScientificaDataset\u001b[0m\u001b[1;33m(\u001b[0m\u001b[0mlims_id\u001b[0m\u001b[1;33m,\u001b[0m \u001b[0manalysis_dir\u001b[0m\u001b[1;33m=\u001b[0m\u001b[0manalysis_dir\u001b[0m\u001b[1;33m)\u001b[0m\u001b[1;33m\u001b[0m\u001b[0m\n\u001b[0m\u001b[1;32m      8\u001b[0m \u001b[1;33m\u001b[0m\u001b[0m\n\u001b[1;32m      9\u001b[0m     \u001b[1;32mprint\u001b[0m \u001b[1;34m'creating response analysis object'\u001b[0m\u001b[1;33m\u001b[0m\u001b[0m\n",
      "\u001b[0;32mc:\\users\\marinag\\documents\\code\\visual_behavior_ophys\\visual_behavior_ophys\\dataset\\visual_behavior_scientifica_dataset.py\u001b[0m in \u001b[0;36m__init__\u001b[0;34m(self, lims_id, filter_edge_cells, analysis_dir)\u001b[0m\n\u001b[1;32m     36\u001b[0m         \u001b[0mself\u001b[0m\u001b[1;33m.\u001b[0m\u001b[0mget_ophys_metadata\u001b[0m\u001b[1;33m(\u001b[0m\u001b[1;33m)\u001b[0m\u001b[1;33m\u001b[0m\u001b[0m\n\u001b[1;32m     37\u001b[0m         \u001b[0mself\u001b[0m\u001b[1;33m.\u001b[0m\u001b[0mget_sync\u001b[0m\u001b[1;33m(\u001b[0m\u001b[1;33m)\u001b[0m\u001b[1;33m\u001b[0m\u001b[0m\n\u001b[0;32m---> 38\u001b[0;31m         \u001b[0mself\u001b[0m\u001b[1;33m.\u001b[0m\u001b[0mget_pkl\u001b[0m\u001b[1;33m(\u001b[0m\u001b[1;33m)\u001b[0m\u001b[1;33m\u001b[0m\u001b[0m\n\u001b[0m\u001b[1;32m     39\u001b[0m         \u001b[0mself\u001b[0m\u001b[1;33m.\u001b[0m\u001b[0mget_pkl_df\u001b[0m\u001b[1;33m(\u001b[0m\u001b[1;33m)\u001b[0m\u001b[1;33m\u001b[0m\u001b[0m\n\u001b[1;32m     40\u001b[0m         \u001b[0mself\u001b[0m\u001b[1;33m.\u001b[0m\u001b[0mget_stimulus_type\u001b[0m\u001b[1;33m(\u001b[0m\u001b[1;33m)\u001b[0m\u001b[1;33m\u001b[0m\u001b[0m\n",
      "\u001b[0;32mc:\\users\\marinag\\documents\\code\\visual_behavior_ophys\\visual_behavior_ophys\\dataset\\visual_behavior_scientifica_dataset.py\u001b[0m in \u001b[0;36mget_pkl\u001b[0;34m(self)\u001b[0m\n\u001b[1;32m    163\u001b[0m \u001b[1;33m\u001b[0m\u001b[0m\n\u001b[1;32m    164\u001b[0m     \u001b[1;32mdef\u001b[0m \u001b[0mget_pkl\u001b[0m\u001b[1;33m(\u001b[0m\u001b[0mself\u001b[0m\u001b[1;33m)\u001b[0m\u001b[1;33m:\u001b[0m\u001b[1;33m\u001b[0m\u001b[0m\n\u001b[0;32m--> 165\u001b[0;31m         \u001b[0mpkl_path\u001b[0m \u001b[1;33m=\u001b[0m \u001b[0mself\u001b[0m\u001b[1;33m.\u001b[0m\u001b[0mget_pkl_path\u001b[0m\u001b[1;33m(\u001b[0m\u001b[1;33m)\u001b[0m\u001b[1;33m\u001b[0m\u001b[0m\n\u001b[0m\u001b[1;32m    166\u001b[0m         \u001b[1;32mwith\u001b[0m \u001b[0mopen\u001b[0m\u001b[1;33m(\u001b[0m\u001b[0mpkl_path\u001b[0m\u001b[1;33m,\u001b[0m \u001b[1;34m\"rb+\"\u001b[0m\u001b[1;33m)\u001b[0m \u001b[1;32mas\u001b[0m \u001b[0mf\u001b[0m\u001b[1;33m:\u001b[0m\u001b[1;33m\u001b[0m\u001b[0m\n\u001b[1;32m    167\u001b[0m             \u001b[0mpkl\u001b[0m \u001b[1;33m=\u001b[0m \u001b[0mpickle\u001b[0m\u001b[1;33m.\u001b[0m\u001b[0mload\u001b[0m\u001b[1;33m(\u001b[0m\u001b[0mf\u001b[0m\u001b[1;33m)\u001b[0m\u001b[1;33m\u001b[0m\u001b[0m\n",
      "\u001b[0;32mc:\\users\\marinag\\documents\\code\\visual_behavior_ophys\\visual_behavior_ophys\\dataset\\visual_behavior_scientifica_dataset.py\u001b[0m in \u001b[0;36mget_pkl_path\u001b[0;34m(self)\u001b[0m\n\u001b[1;32m    158\u001b[0m             pkl_dir = os.path.join(r'\\\\allen\\programs\\braintv\\workgroups\\neuralcoding\\Behavior\\Data',\n\u001b[1;32m    159\u001b[0m                                    'M' + str(self.mouse_id), 'output')\n\u001b[0;32m--> 160\u001b[0;31m             \u001b[0mpkl_file\u001b[0m \u001b[1;33m=\u001b[0m \u001b[1;33m[\u001b[0m\u001b[0mfile\u001b[0m \u001b[1;32mfor\u001b[0m \u001b[0mfile\u001b[0m \u001b[1;32min\u001b[0m \u001b[0mos\u001b[0m\u001b[1;33m.\u001b[0m\u001b[0mlistdir\u001b[0m\u001b[1;33m(\u001b[0m\u001b[0mpkl_dir\u001b[0m\u001b[1;33m)\u001b[0m \u001b[1;32mif\u001b[0m \u001b[0mfile\u001b[0m\u001b[1;33m.\u001b[0m\u001b[0mstartswith\u001b[0m\u001b[1;33m(\u001b[0m\u001b[0mself\u001b[0m\u001b[1;33m.\u001b[0m\u001b[0mexpt_date\u001b[0m\u001b[1;33m)\u001b[0m\u001b[1;33m]\u001b[0m\u001b[1;33m[\u001b[0m\u001b[1;36m0\u001b[0m\u001b[1;33m]\u001b[0m\u001b[1;33m\u001b[0m\u001b[0m\n\u001b[0m\u001b[1;32m    161\u001b[0m             \u001b[0mself\u001b[0m\u001b[1;33m.\u001b[0m\u001b[0mpkl_path\u001b[0m \u001b[1;33m=\u001b[0m \u001b[0mos\u001b[0m\u001b[1;33m.\u001b[0m\u001b[0mpath\u001b[0m\u001b[1;33m.\u001b[0m\u001b[0mjoin\u001b[0m\u001b[1;33m(\u001b[0m\u001b[0mpkl_dir\u001b[0m\u001b[1;33m,\u001b[0m \u001b[0mpkl_file\u001b[0m\u001b[1;33m)\u001b[0m\u001b[1;33m\u001b[0m\u001b[0m\n\u001b[1;32m    162\u001b[0m         \u001b[1;32mreturn\u001b[0m \u001b[0mself\u001b[0m\u001b[1;33m.\u001b[0m\u001b[0mpkl_path\u001b[0m\u001b[1;33m\u001b[0m\u001b[0m\n",
      "\u001b[0;31mIndexError\u001b[0m: list index out of range"
     ]
    }
   ],
   "source": [
    "for session_folder in [folder for folder in os.listdir(data_dir) if 'ophys_session' in folder]:\n",
    "    ophys_session_dir = os.path.join(data_dir,session_folder)\n",
    "    expt_folder = os.path.join(ophys_session_dir,'ophys_experiment_'+str(lims_id))\n",
    "    analysis_folder = [folder for folder in os.listdir(analysis_dir) if str(lims_id) in folder]\n",
    "    print '*****analyzing',lims_id,'*****'\n",
    "    print 'creating dataset object'\n",
    "    dataset= VisualBehaviorScientificaDataset(lims_id, analysis_dir=analysis_dir)\n",
    "\n",
    "    print 'creating response analysis object'\n",
    "    ra = ResponseAnalysis(dataset)\n",
    "    rdf = ra.response_df\n",
    "    mdf = ra.mean_response_df\n",
    "    sdf = ra.get_cell_summary_df(p_val_thresh=0.005, sd_over_baseline_thresh=3)\n",
    "\n",
    "    print 'generating experiment summary figures'\n",
    "    sf.plot_images(dataset,mdf,save=True);\n",
    "    sf.plot_experiment_summary_figure(dataset, mdf, sdf, save=True)\n",
    "    sf.plot_behavior_events_trace(dataset, ra.response_df.cell.unique(), xmin=360, length=5, ax=None, save=True)\n",
    "    print 'generating cell summary figures'\n",
    "    for cell in mdf.cell.unique():\n",
    "        sf.plot_cell_summary_figure(dataset,ra, cell, save=True)\n"
   ]
  },
  {
   "cell_type": "code",
   "execution_count": 16,
   "metadata": {
    "collapsed": true
   },
   "outputs": [],
   "source": [
    "from visual_behavior_ophys.utilities.lims_database import LimsDatabase"
   ]
  },
  {
   "cell_type": "code",
   "execution_count": 18,
   "metadata": {
    "collapsed": false
   },
   "outputs": [],
   "source": [
    "ld = LimsDatabase(lims_id)"
   ]
  },
  {
   "cell_type": "code",
   "execution_count": 26,
   "metadata": {
    "collapsed": false
   },
   "outputs": [
    {
     "ename": "TypeError",
     "evalue": "ufunc 'add' did not contain a loop with signature matching types dtype('S21') dtype('S21') dtype('S21')",
     "output_type": "error",
     "traceback": [
      "\u001b[0;31m---------------------------------------------------------------------------\u001b[0m",
      "\u001b[0;31mTypeError\u001b[0m                                 Traceback (most recent call last)",
      "\u001b[0;32m<ipython-input-26-318edfe7689e>\u001b[0m in \u001b[0;36m<module>\u001b[0;34m()\u001b[0m\n\u001b[1;32m      1\u001b[0m \u001b[0ml\u001b[0m \u001b[1;33m=\u001b[0m \u001b[0mld\u001b[0m\u001b[1;33m.\u001b[0m\u001b[0mget_qc_param\u001b[0m\u001b[1;33m(\u001b[0m\u001b[1;33m)\u001b[0m\u001b[1;33m\u001b[0m\u001b[0m\n\u001b[0;32m----> 2\u001b[0;31m \u001b[0mfolder_name\u001b[0m \u001b[1;33m=\u001b[0m \u001b[0mstr\u001b[0m\u001b[1;33m(\u001b[0m\u001b[0ml\u001b[0m\u001b[1;33m.\u001b[0m\u001b[0mexternal_specimen_id\u001b[0m\u001b[1;33m.\u001b[0m\u001b[0mvalues\u001b[0m\u001b[1;33m[\u001b[0m\u001b[1;36m0\u001b[0m\u001b[1;33m]\u001b[0m\u001b[1;33m)\u001b[0m \u001b[1;33m+\u001b[0m \u001b[1;34m'_'\u001b[0m \u001b[1;33m+\u001b[0m \u001b[0ml\u001b[0m\u001b[1;33m.\u001b[0m\u001b[0mlims_id\u001b[0m\u001b[1;33m.\u001b[0m\u001b[0mvalues\u001b[0m\u001b[1;33m[\u001b[0m\u001b[1;36m0\u001b[0m\u001b[1;33m]\u001b[0m \u001b[1;33m+\u001b[0m \u001b[1;34m'_'\u001b[0m \u001b[1;33m+\u001b[0m \u001b[0ml\u001b[0m\u001b[1;33m.\u001b[0m\u001b[0mstructure\u001b[0m\u001b[1;33m.\u001b[0m\u001b[0mvalues\u001b[0m\u001b[1;33m[\u001b[0m\u001b[1;36m0\u001b[0m\u001b[1;33m]\u001b[0m \u001b[1;33m+\u001b[0m \u001b[1;34m'_'\u001b[0m \u001b[1;33m+\u001b[0m \u001b[0mstr\u001b[0m\u001b[1;33m(\u001b[0m\u001b[0ml\u001b[0m\u001b[1;33m.\u001b[0m\u001b[0mdepth\u001b[0m\u001b[1;33m.\u001b[0m\u001b[0mvalues\u001b[0m\u001b[1;33m[\u001b[0m\u001b[1;36m0\u001b[0m\u001b[1;33m]\u001b[0m\u001b[1;33m)\u001b[0m \u001b[1;33m+\u001b[0m \u001b[1;34m'_'\u001b[0m \u001b[1;33m+\u001b[0m \u001b[0ml\u001b[0m\u001b[1;33m.\u001b[0m\u001b[0mspecimen_driver_line\u001b[0m\u001b[1;33m.\u001b[0m\u001b[0mvalues\u001b[0m\u001b[1;33m[\u001b[0m\u001b[1;36m0\u001b[0m\u001b[1;33m]\u001b[0m\u001b[1;33m.\u001b[0m\u001b[0msplit\u001b[0m\u001b[1;33m(\u001b[0m\u001b[1;34m'-'\u001b[0m\u001b[1;33m)\u001b[0m\u001b[1;33m[\u001b[0m\u001b[1;36m0\u001b[0m\u001b[1;33m]\u001b[0m \u001b[1;31m#+ '_' + self.session_name\u001b[0m\u001b[1;33m\u001b[0m\u001b[0m\n\u001b[0m",
      "\u001b[0;31mTypeError\u001b[0m: ufunc 'add' did not contain a loop with signature matching types dtype('S21') dtype('S21') dtype('S21')"
     ]
    }
   ],
   "source": [
    "l = ld.get_qc_param()\n",
    "folder_name = str(l.external_specimen_id.values[0]) + '_' + str(l.lims_id.values[0]) + '_' + l.structure.values[0] + '_' + str(l.depth.values[0]) + '_' + l.specimen_driver_line.values[0].split('-')[0] #+ '_' + self.session_name"
   ]
  },
  {
   "cell_type": "code",
   "execution_count": 32,
   "metadata": {
    "collapsed": false
   },
   "outputs": [
    {
     "data": {
      "text/plain": [
       "642030234"
      ]
     },
     "execution_count": 32,
     "metadata": {},
     "output_type": "execute_result"
    }
   ],
   "source": [
    "l.lims_id.values[0]\n"
   ]
  },
  {
   "cell_type": "code",
   "execution_count": null,
   "metadata": {
    "collapsed": true
   },
   "outputs": [],
   "source": []
  }
 ],
 "metadata": {
  "anaconda-cloud": {},
  "kernelspec": {
   "display_name": "Python 2",
   "language": "python",
   "name": "python2"
  },
  "language_info": {
   "codemirror_mode": {
    "name": "ipython",
    "version": 2
   },
   "file_extension": ".py",
   "mimetype": "text/x-python",
   "name": "python",
   "nbconvert_exporter": "python",
   "pygments_lexer": "ipython2",
   "version": "2.7.13"
  }
 },
 "nbformat": 4,
 "nbformat_minor": 0
}
