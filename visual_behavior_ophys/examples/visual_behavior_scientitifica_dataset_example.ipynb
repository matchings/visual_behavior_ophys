{
 "cells": [
  {
   "cell_type": "code",
   "execution_count": 2,
   "metadata": {
    "collapsed": false
   },
   "outputs": [],
   "source": [
    "import os\n",
    "import numpy as np\n",
    "import pandas as pd\n",
    "import h5py \n",
    "\n",
    "import matplotlib.pyplot as plt\n",
    "%matplotlib inline\n",
    "%load_ext autoreload"
   ]
  },
  {
   "cell_type": "code",
   "execution_count": 3,
   "metadata": {
    "collapsed": true
   },
   "outputs": [],
   "source": [
    "ophys_session_dir = r\"/Users/marinag/Data/VisualBehavior/ophys_session_614084348\""
   ]
  },
  {
   "cell_type": "code",
   "execution_count": 4,
   "metadata": {
    "collapsed": false
   },
   "outputs": [],
   "source": [
    "from visual_behavior_ophys.dataset.visual_behavior_scientifica_dataset import VisualBehaviorScientificaDataset"
   ]
  },
  {
   "cell_type": "code",
   "execution_count": 5,
   "metadata": {
    "collapsed": false
   },
   "outputs": [
    {
     "name": "stdout",
     "output_type": "stream",
     "text": [
      "Visual frames detected in sync: 215759\n",
      "2P frames detected in sync: 111617\n",
      "visual frames in pkl file: 215759\n",
      "Loading /Users/marinag/Data/VisualBehavior/ophys_session_614084348/170829140002-task=DoC_NaturalImages_Ophys_SessionA_stage=natural_images_ophys_sessionA_mouse=M328341.pkl\n",
      "stim type is  images\n"
     ]
    },
    {
     "name": "stderr",
     "output_type": "stream",
     "text": [
      "/Users/marinag/Code/visual_behavior_ophys/visual_behavior_ophys/dataset/visual_behavior_scientifica_dataset.py:171: FutureWarning: pd.rolling_mean is deprecated for ndarrays and will be removed in a future version\n",
      "  running_speed_cm_per_sec = pd.rolling_mean(running_speed_cm_per_sec, window=6)\n"
     ]
    },
    {
     "name": "stdout",
     "output_type": "stream",
     "text": [
      "filter edge cells = True\n",
      "length of traces: 111612\n",
      "number of segmented cells: 80\n"
     ]
    }
   ],
   "source": [
    "dataset= VisualBehaviorScientificaDataset(ophys_session_dir, mouse_id=328341)"
   ]
  },
  {
   "cell_type": "markdown",
   "metadata": {
    "collapsed": true
   },
   "source": [
    "#stimulus analysis object\n",
    "interlength\n",
    "get_noise_correlation\n",
    "get_peak\n",
    "get_response\n",
    "get_representational_similarity\n",
    "get_signal_correlation\n",
    "get_sweep_response\n",
    "get_mean_sweep_response\n",
    "plotting functions\n",
    "\n"
   ]
  },
  {
   "cell_type": "code",
   "execution_count": 6,
   "metadata": {
    "collapsed": true
   },
   "outputs": [],
   "source": [
    "from visual_behavior_ophys.response_analysis.response_analysis import ResponseAnalysis "
   ]
  },
  {
   "cell_type": "code",
   "execution_count": 7,
   "metadata": {
    "collapsed": false
   },
   "outputs": [
    {
     "name": "stdout",
     "output_type": "stream",
     "text": [
      "length of traces: 111612\n",
      "number of segmented cells: 80\n",
      "loading response dataframe\n",
      "done\n"
     ]
    }
   ],
   "source": [
    "ra = ResponseAnalysis(dataset)"
   ]
  },
  {
   "cell_type": "code",
   "execution_count": 8,
   "metadata": {
    "collapsed": false,
    "scrolled": true
   },
   "outputs": [
    {
     "name": "stdout",
     "output_type": "stream",
     "text": [
      "loading response dataframe\n",
      "done\n"
     ]
    }
   ],
   "source": [
    "rdf = ra.get_response_dataframe()\n",
    "dataset.response_df = rdf"
   ]
  },
  {
   "cell_type": "code",
   "execution_count": 9,
   "metadata": {
    "collapsed": false
   },
   "outputs": [
    {
     "data": {
      "text/html": [
       "<div>\n",
       "<table border=\"1\" class=\"dataframe\">\n",
       "  <thead>\n",
       "    <tr style=\"text-align: right;\">\n",
       "      <th></th>\n",
       "      <th>cell</th>\n",
       "      <th>trial</th>\n",
       "      <th>response</th>\n",
       "      <th>response_timestamps</th>\n",
       "      <th>response_window_mean</th>\n",
       "      <th>baseline_window_mean</th>\n",
       "      <th>p_value</th>\n",
       "      <th>sd_over_baseline</th>\n",
       "      <th>run_speed</th>\n",
       "      <th>run_timestamps</th>\n",
       "      <th>...</th>\n",
       "      <th>total_trial</th>\n",
       "      <th>change_frame</th>\n",
       "      <th>change_time</th>\n",
       "      <th>initial_code</th>\n",
       "      <th>change_code</th>\n",
       "      <th>initial_image</th>\n",
       "      <th>change_image</th>\n",
       "      <th>trial_type</th>\n",
       "      <th>behavioral_response</th>\n",
       "      <th>behavioral_response_type</th>\n",
       "    </tr>\n",
       "  </thead>\n",
       "  <tbody>\n",
       "    <tr>\n",
       "      <th>0</th>\n",
       "      <td>0</td>\n",
       "      <td>0</td>\n",
       "      <td>[0.0861621611381, -0.10375494818, -0.028460947...</td>\n",
       "      <td>[221.70022, 221.73252, 221.76482, 221.79712, 2...</td>\n",
       "      <td>0.015174</td>\n",
       "      <td>0.006643</td>\n",
       "      <td>0.706337</td>\n",
       "      <td>0.294352</td>\n",
       "      <td>[31.9271740001, 31.9584539639, 31.878958975, 3...</td>\n",
       "      <td>[221.71086, 221.72754, 221.74422, 221.76087, 2...</td>\n",
       "      <td>...</td>\n",
       "      <td>1</td>\n",
       "      <td>360</td>\n",
       "      <td>225.71413</td>\n",
       "      <td>2</td>\n",
       "      <td>5</td>\n",
       "      <td>img063_VH.tiff</td>\n",
       "      <td>img069_VH.tiff</td>\n",
       "      <td>go</td>\n",
       "      <td>1.0</td>\n",
       "      <td>HIT</td>\n",
       "    </tr>\n",
       "    <tr>\n",
       "      <th>1</th>\n",
       "      <td>1</td>\n",
       "      <td>0</td>\n",
       "      <td>[0.0982767548349, 0.167274315655, -0.024135381...</td>\n",
       "      <td>[221.70022, 221.73252, 221.76482, 221.79712, 2...</td>\n",
       "      <td>0.033135</td>\n",
       "      <td>0.002382</td>\n",
       "      <td>0.327908</td>\n",
       "      <td>0.480030</td>\n",
       "      <td>[31.9271740001, 31.9584539639, 31.878958975, 3...</td>\n",
       "      <td>[221.71086, 221.72754, 221.74422, 221.76087, 2...</td>\n",
       "      <td>...</td>\n",
       "      <td>1</td>\n",
       "      <td>360</td>\n",
       "      <td>225.71413</td>\n",
       "      <td>2</td>\n",
       "      <td>5</td>\n",
       "      <td>img063_VH.tiff</td>\n",
       "      <td>img069_VH.tiff</td>\n",
       "      <td>go</td>\n",
       "      <td>1.0</td>\n",
       "      <td>HIT</td>\n",
       "    </tr>\n",
       "    <tr>\n",
       "      <th>2</th>\n",
       "      <td>2</td>\n",
       "      <td>0</td>\n",
       "      <td>[-0.161422807529, 0.0172883693359, 0.231374588...</td>\n",
       "      <td>[221.70022, 221.73252, 221.76482, 221.79712, 2...</td>\n",
       "      <td>0.882186</td>\n",
       "      <td>-0.052828</td>\n",
       "      <td>0.004592</td>\n",
       "      <td>5.174605</td>\n",
       "      <td>[31.9271740001, 31.9584539639, 31.878958975, 3...</td>\n",
       "      <td>[221.71086, 221.72754, 221.74422, 221.76087, 2...</td>\n",
       "      <td>...</td>\n",
       "      <td>1</td>\n",
       "      <td>360</td>\n",
       "      <td>225.71413</td>\n",
       "      <td>2</td>\n",
       "      <td>5</td>\n",
       "      <td>img063_VH.tiff</td>\n",
       "      <td>img069_VH.tiff</td>\n",
       "      <td>go</td>\n",
       "      <td>1.0</td>\n",
       "      <td>HIT</td>\n",
       "    </tr>\n",
       "    <tr>\n",
       "      <th>3</th>\n",
       "      <td>3</td>\n",
       "      <td>0</td>\n",
       "      <td>[-0.0526427130626, -0.00624802545527, -0.04873...</td>\n",
       "      <td>[221.70022, 221.73252, 221.76482, 221.79712, 2...</td>\n",
       "      <td>0.018655</td>\n",
       "      <td>0.023056</td>\n",
       "      <td>0.838174</td>\n",
       "      <td>0.333665</td>\n",
       "      <td>[31.9271740001, 31.9584539639, 31.878958975, 3...</td>\n",
       "      <td>[221.71086, 221.72754, 221.74422, 221.76087, 2...</td>\n",
       "      <td>...</td>\n",
       "      <td>1</td>\n",
       "      <td>360</td>\n",
       "      <td>225.71413</td>\n",
       "      <td>2</td>\n",
       "      <td>5</td>\n",
       "      <td>img063_VH.tiff</td>\n",
       "      <td>img069_VH.tiff</td>\n",
       "      <td>go</td>\n",
       "      <td>1.0</td>\n",
       "      <td>HIT</td>\n",
       "    </tr>\n",
       "    <tr>\n",
       "      <th>4</th>\n",
       "      <td>4</td>\n",
       "      <td>0</td>\n",
       "      <td>[0.064814095183, -0.0413849637216, -0.01295014...</td>\n",
       "      <td>[221.70022, 221.73252, 221.76482, 221.79712, 2...</td>\n",
       "      <td>0.029589</td>\n",
       "      <td>0.010948</td>\n",
       "      <td>0.288354</td>\n",
       "      <td>0.658146</td>\n",
       "      <td>[31.9271740001, 31.9584539639, 31.878958975, 3...</td>\n",
       "      <td>[221.71086, 221.72754, 221.74422, 221.76087, 2...</td>\n",
       "      <td>...</td>\n",
       "      <td>1</td>\n",
       "      <td>360</td>\n",
       "      <td>225.71413</td>\n",
       "      <td>2</td>\n",
       "      <td>5</td>\n",
       "      <td>img063_VH.tiff</td>\n",
       "      <td>img069_VH.tiff</td>\n",
       "      <td>go</td>\n",
       "      <td>1.0</td>\n",
       "      <td>HIT</td>\n",
       "    </tr>\n",
       "  </tbody>\n",
       "</table>\n",
       "<p>5 rows × 24 columns</p>\n",
       "</div>"
      ],
      "text/plain": [
       "   cell  trial                                           response  \\\n",
       "0     0      0  [0.0861621611381, -0.10375494818, -0.028460947...   \n",
       "1     1      0  [0.0982767548349, 0.167274315655, -0.024135381...   \n",
       "2     2      0  [-0.161422807529, 0.0172883693359, 0.231374588...   \n",
       "3     3      0  [-0.0526427130626, -0.00624802545527, -0.04873...   \n",
       "4     4      0  [0.064814095183, -0.0413849637216, -0.01295014...   \n",
       "\n",
       "                                 response_timestamps  response_window_mean  \\\n",
       "0  [221.70022, 221.73252, 221.76482, 221.79712, 2...              0.015174   \n",
       "1  [221.70022, 221.73252, 221.76482, 221.79712, 2...              0.033135   \n",
       "2  [221.70022, 221.73252, 221.76482, 221.79712, 2...              0.882186   \n",
       "3  [221.70022, 221.73252, 221.76482, 221.79712, 2...              0.018655   \n",
       "4  [221.70022, 221.73252, 221.76482, 221.79712, 2...              0.029589   \n",
       "\n",
       "   baseline_window_mean   p_value  sd_over_baseline  \\\n",
       "0              0.006643  0.706337          0.294352   \n",
       "1              0.002382  0.327908          0.480030   \n",
       "2             -0.052828  0.004592          5.174605   \n",
       "3              0.023056  0.838174          0.333665   \n",
       "4              0.010948  0.288354          0.658146   \n",
       "\n",
       "                                           run_speed  \\\n",
       "0  [31.9271740001, 31.9584539639, 31.878958975, 3...   \n",
       "1  [31.9271740001, 31.9584539639, 31.878958975, 3...   \n",
       "2  [31.9271740001, 31.9584539639, 31.878958975, 3...   \n",
       "3  [31.9271740001, 31.9584539639, 31.878958975, 3...   \n",
       "4  [31.9271740001, 31.9584539639, 31.878958975, 3...   \n",
       "\n",
       "                                      run_timestamps           ...             \\\n",
       "0  [221.71086, 221.72754, 221.74422, 221.76087, 2...           ...              \n",
       "1  [221.71086, 221.72754, 221.74422, 221.76087, 2...           ...              \n",
       "2  [221.71086, 221.72754, 221.74422, 221.76087, 2...           ...              \n",
       "3  [221.71086, 221.72754, 221.74422, 221.76087, 2...           ...              \n",
       "4  [221.71086, 221.72754, 221.74422, 221.76087, 2...           ...              \n",
       "\n",
       "   total_trial  change_frame change_time  initial_code  change_code  \\\n",
       "0            1           360   225.71413             2            5   \n",
       "1            1           360   225.71413             2            5   \n",
       "2            1           360   225.71413             2            5   \n",
       "3            1           360   225.71413             2            5   \n",
       "4            1           360   225.71413             2            5   \n",
       "\n",
       "    initial_image    change_image  trial_type  behavioral_response  \\\n",
       "0  img063_VH.tiff  img069_VH.tiff          go                  1.0   \n",
       "1  img063_VH.tiff  img069_VH.tiff          go                  1.0   \n",
       "2  img063_VH.tiff  img069_VH.tiff          go                  1.0   \n",
       "3  img063_VH.tiff  img069_VH.tiff          go                  1.0   \n",
       "4  img063_VH.tiff  img069_VH.tiff          go                  1.0   \n",
       "\n",
       "  behavioral_response_type  \n",
       "0                      HIT  \n",
       "1                      HIT  \n",
       "2                      HIT  \n",
       "3                      HIT  \n",
       "4                      HIT  \n",
       "\n",
       "[5 rows x 24 columns]"
      ]
     },
     "execution_count": 9,
     "metadata": {},
     "output_type": "execute_result"
    }
   ],
   "source": [
    "rdf.head()"
   ]
  },
  {
   "cell_type": "code",
   "execution_count": 10,
   "metadata": {
    "collapsed": false
   },
   "outputs": [],
   "source": [
    "from visual_behavior_ophys.plotting_tools import summary_figures as sf"
   ]
  },
  {
   "cell_type": "code",
   "execution_count": 11,
   "metadata": {
    "collapsed": false
   },
   "outputs": [],
   "source": [
    "from visual_behavior_ophys.plotting_tools import basic_plotting as bp"
   ]
  },
  {
   "cell_type": "code",
   "execution_count": 12,
   "metadata": {
    "collapsed": true
   },
   "outputs": [],
   "source": [
    "from visual_behavior_ophys.roi_mask_analysis import roi_mask_analysis as rm"
   ]
  },
  {
   "cell_type": "code",
   "execution_count": null,
   "metadata": {
    "collapsed": true
   },
   "outputs": [],
   "source": []
  },
  {
   "cell_type": "code",
   "execution_count": null,
   "metadata": {
    "collapsed": true
   },
   "outputs": [],
   "source": []
  },
  {
   "cell_type": "code",
   "execution_count": null,
   "metadata": {
    "collapsed": true
   },
   "outputs": [],
   "source": []
  },
  {
   "cell_type": "code",
   "execution_count": null,
   "metadata": {
    "collapsed": true
   },
   "outputs": [],
   "source": []
  },
  {
   "cell_type": "code",
   "execution_count": null,
   "metadata": {
    "collapsed": true
   },
   "outputs": [],
   "source": []
  }
 ],
 "metadata": {
  "anaconda-cloud": {},
  "kernelspec": {
   "display_name": "Python [Root]",
   "language": "python",
   "name": "Python [Root]"
  },
  "language_info": {
   "codemirror_mode": {
    "name": "ipython",
    "version": 2
   },
   "file_extension": ".py",
   "mimetype": "text/x-python",
   "name": "python",
   "nbconvert_exporter": "python",
   "pygments_lexer": "ipython2",
   "version": "2.7.12"
  }
 },
 "nbformat": 4,
 "nbformat_minor": 0
}
