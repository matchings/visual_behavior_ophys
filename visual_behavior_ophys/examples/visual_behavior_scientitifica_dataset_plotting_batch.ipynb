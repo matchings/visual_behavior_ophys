{
 "cells": [
  {
   "cell_type": "code",
   "execution_count": 1,
   "metadata": {
    "collapsed": false
   },
   "outputs": [],
   "source": [
    "import os\n",
    "import numpy as np\n",
    "import pandas as pd\n",
    "import h5py \n",
    "\n",
    "import matplotlib.pyplot as plt\n",
    "%matplotlib inline\n",
    "%load_ext autoreload"
   ]
  },
  {
   "cell_type": "code",
   "execution_count": 2,
   "metadata": {
    "collapsed": true
   },
   "outputs": [],
   "source": [
    "from visual_behavior_ophys.dataset.visual_behavior_scientifica_dataset import VisualBehaviorScientificaDataset\n",
    "from visual_behavior_ophys.response_analysis.response_analysis import ResponseAnalysis \n",
    "from visual_behavior_ophys.plotting_tools import summary_figures as sf\n"
   ]
  },
  {
   "cell_type": "code",
   "execution_count": 3,
   "metadata": {
    "collapsed": true
   },
   "outputs": [],
   "source": [
    "specimen_id = 594684843"
   ]
  },
  {
   "cell_type": "code",
   "execution_count": 4,
   "metadata": {
    "collapsed": false
   },
   "outputs": [],
   "source": [
    "analysis_dir = r'\\\\allen\\programs\\braintv\\workgroups\\nc-ophys\\BehaviorImaging\\DoC\\2P6_data_analysis'\n",
    "base_dir = r\"\\\\allen\\programs\\braintv\\production\\neuralcoding\\prod0\\specimen_\"\n",
    "data_dir = os.path.join(base_dir+str(specimen_id))"
   ]
  },
  {
   "cell_type": "markdown",
   "metadata": {},
   "source": [
    "# plot figures if analysis has not yet been run"
   ]
  },
  {
   "cell_type": "code",
   "execution_count": null,
   "metadata": {
    "collapsed": false,
    "scrolled": true
   },
   "outputs": [],
   "source": [
    "# for session_folder in [folder for folder in os.listdir(data_dir) if 'ophys_session' in folder]:\n",
    "#     ophys_session_dir = os.path.join(data_dir,session_folder)\n",
    "#     expt_folder = [folder for folder in os.listdir(ophys_session_dir) if 'ophys_experiment' in folder]\n",
    "#     if len(expt_folder)>0:\n",
    "#         lims_id = expt_folder[0][-9:]\n",
    "#         analysis_folder = [folder for folder in os.listdir(analysis_dir) if str(lims_id) in folder]\n",
    "#         if (len(analysis_folder)==0) or ('response_dataframe.h5' not in os.listdir(os.path.join(analysis_dir,analysis_folder[0]))):\n",
    "#             try:\n",
    "#                 print '*****analyzing',lims_id,'*****'\n",
    "#                 print 'creating dataset object'\n",
    "#                 dataset= VisualBehaviorScientificaDataset(lims_id, analysis_dir=analysis_dir)\n",
    "\n",
    "#                 print 'creating response analysis object'\n",
    "#                 ra = ResponseAnalysis(dataset)\n",
    "#                 rdf = ra.response_df\n",
    "#                 mdf = ra.mean_response_df\n",
    "#                 sdf = ra.get_cell_summary_df(p_val_thresh=0.005, sd_over_baseline_thresh=3)\n",
    "\n",
    "#                 print 'generating experiment summary figures'\n",
    "#                 sf.plot_images(dataset,mdf,save=True);\n",
    "#                 sf.plot_experiment_summary_figure(dataset, mdf, sdf, save=True)\n",
    "#                 sf.plot_behavior_events_trace(dataset, ra.response_df.cell.unique(), xmin=360, length=5, ax=None, save=True)\n",
    "#                 print 'generating cell summary figures'\n",
    "#                 for cell in mdf.cell.unique():\n",
    "#                     sf.plot_cell_summary_figure(dataset,ra, cell, save=True)\n",
    "#             except: \n",
    "#                 print '*****problem for',lims_id,'*****'\n",
    "#         else: \n",
    "#             print '*****response_dataframe.h5 already in',lims_id,'*****'\n",
    "#     else: \n",
    "#          print '*****experiment folder is empty for',os.path.join(ophys_session_dir),'*****'"
   ]
  },
  {
   "cell_type": "markdown",
   "metadata": {},
   "source": [
    "## plot figures regardless of whether response_dataframe exists or not"
   ]
  },
  {
   "cell_type": "code",
   "execution_count": null,
   "metadata": {
    "collapsed": false,
    "scrolled": false
   },
   "outputs": [
    {
     "name": "stdout",
     "output_type": "stream",
     "text": [
      "*****analyzing 627823529 *****\n",
      "creating dataset object\n",
      "Visual frames detected in sync: 215773\n",
      "2P frames detected in sync: 111580\n",
      "170914\n",
      "visual frames in pkl file: 215772\n",
      "Loading \\\\allen\\programs\\braintv\\workgroups\\neuralcoding\\Behavior\\Data\\M328341\\output\\170914151121-task=DoC_NaturalImages_Ophys_SessionB_stage=natural_images_ophys_session_B_mouse=M328341.pkl\n",
      "stim type is  images\n"
     ]
    },
    {
     "name": "stderr",
     "output_type": "stream",
     "text": [
      "c:\\users\\marinag\\documents\\code\\visual_behavior_ophys\\visual_behavior_ophys\\dataset\\visual_behavior_scientifica_dataset.py:209: FutureWarning: pd.rolling_mean is deprecated for ndarrays and will be removed in a future version\n",
      "  running_speed_cm_per_sec = pd.rolling_mean(running_speed_cm_per_sec, window=6)\n"
     ]
    },
    {
     "name": "stdout",
     "output_type": "stream",
     "text": [
      "length of traces: 111576\n",
      "number of segmented cells: 376\n",
      "creating response analysis object\n",
      "length of traces: 111576\n",
      "number of segmented cells: 376\n",
      "generating response dataframe\n"
     ]
    }
   ],
   "source": [
    "for session_folder in [folder for folder in os.listdir(data_dir) if 'ophys_session' in folder]:\n",
    "    ophys_session_dir = os.path.join(data_dir,session_folder)\n",
    "    expt_folder = [folder for folder in os.listdir(ophys_session_dir) if 'ophys_experiment' in folder]\n",
    "    if len(expt_folder)>0:\n",
    "        lims_id = expt_folder[0][-9:]\n",
    "        analysis_folder = [folder for folder in os.listdir(analysis_dir) if str(lims_id) in folder]\n",
    "#         try:\n",
    "        print '*****analyzing',lims_id,'*****'\n",
    "        print 'creating dataset object'\n",
    "        dataset= VisualBehaviorScientificaDataset(lims_id, analysis_dir=analysis_dir)\n",
    "\n",
    "        print 'creating response analysis object'\n",
    "        ra = ResponseAnalysis(dataset)\n",
    "        rdf = ra.response_df\n",
    "        mdf = ra.mean_response_df\n",
    "        sdf = ra.get_cell_summary_df(p_val_thresh=0.005, sd_over_baseline_thresh=3)\n",
    "\n",
    "        print 'generating experiment summary figures'\n",
    "        sf.plot_images(dataset,mdf,save=True);\n",
    "        sf.plot_experiment_summary_figure(dataset, mdf, sdf, save=True)\n",
    "        sf.plot_behavior_events_trace(dataset, ra.response_df.cell.unique(), xmin=360, length=5, ax=None, save=True)\n",
    "        print 'generating cell summary figures'\n",
    "        for cell in mdf.cell.unique():\n",
    "            sf.plot_cell_summary_figure(dataset,ra, cell, save=True)\n",
    "#         except: \n",
    "#             print '*****problem for',lims_id,'*****'\n",
    "    else: \n",
    "         print '*****experiment folder is empty for',os.path.join(ophys_session_dir),'*****'"
   ]
  },
  {
   "cell_type": "code",
   "execution_count": null,
   "metadata": {
    "collapsed": false
   },
   "outputs": [],
   "source": [
    "# sf.plot_traces_heatmap(dataset, save=True,cbar=True,ax=None)"
   ]
  },
  {
   "cell_type": "code",
   "execution_count": null,
   "metadata": {
    "collapsed": false
   },
   "outputs": [],
   "source": [
    "# for cell in mdf.cell.unique():\n",
    "#     sf.plot_transition_type_heatmap(ra, [cell], vmax=np.percentile(dataset.dff_traces[cell, :], 99.9), ax=None, cmap='magma', colorbar=False,save=True);"
   ]
  },
  {
   "cell_type": "code",
   "execution_count": null,
   "metadata": {
    "collapsed": true
   },
   "outputs": [],
   "source": [
    "# for trace in dataset.dff_traces\n",
    "# sf.plot_trace(timestamps, trace, ax=None, xlabel='seconds', ylabel='dF/F')"
   ]
  },
  {
   "cell_type": "code",
   "execution_count": null,
   "metadata": {
    "collapsed": false
   },
   "outputs": [],
   "source": [
    "dataset.stim_codes.stim_code.values"
   ]
  },
  {
   "cell_type": "code",
   "execution_count": null,
   "metadata": {
    "collapsed": true
   },
   "outputs": [],
   "source": []
  },
  {
   "cell_type": "code",
   "execution_count": null,
   "metadata": {
    "collapsed": true
   },
   "outputs": [],
   "source": []
  },
  {
   "cell_type": "code",
   "execution_count": null,
   "metadata": {
    "collapsed": true
   },
   "outputs": [],
   "source": []
  },
  {
   "cell_type": "code",
   "execution_count": null,
   "metadata": {
    "collapsed": true
   },
   "outputs": [],
   "source": []
  }
 ],
 "metadata": {
  "anaconda-cloud": {},
  "kernelspec": {
   "display_name": "Python 2",
   "language": "python",
   "name": "python2"
  },
  "language_info": {
   "codemirror_mode": {
    "name": "ipython",
    "version": 2
   },
   "file_extension": ".py",
   "mimetype": "text/x-python",
   "name": "python",
   "nbconvert_exporter": "python",
   "pygments_lexer": "ipython2",
   "version": "2.7.13"
  }
 },
 "nbformat": 4,
 "nbformat_minor": 0
}
